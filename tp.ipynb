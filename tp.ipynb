{
 "cells": [
  {
   "cell_type": "code",
   "execution_count": 1,
   "outputs": [],
   "source": [
    "from functools import cache\n",
    "from typing import *\n",
    "from math import inf\n",
    "from collections import Counter, defaultdict\n",
    "from bisect import bisect_left, bisect_right\n",
    "from sortedcontainers import SortedList, SortedDict, SortedSet\n",
    "from itertools import accumulate"
   ],
   "metadata": {
    "collapsed": false,
    "pycharm": {
     "name": "#%%\n"
    }
   }
  },
  {
   "cell_type": "markdown",
   "source": [
    "# 数据结构"
   ],
   "metadata": {
    "collapsed": false,
    "pycharm": {
     "name": "#%% md\n"
    }
   }
  },
  {
   "cell_type": "code",
   "execution_count": null,
   "outputs": [],
   "source": [
    "# 树状数组 离散化\n",
    "# 树状数组模板（维护前缀最大值）\n",
    "class BIT:\n",
    "    def __init__(self, n: int):\n",
    "        self.tree = [-inf] * n\n",
    "\n",
    "    def update(self, i: int, val: int) -> None:\n",
    "        while i < len(self.tree):\n",
    "            self.tree[i] = max(self.tree[i], val)\n",
    "            i += i & -i\n",
    "\n",
    "    def pre_max(self, i: int) -> int:\n",
    "        mx = -inf\n",
    "        while i > 0:\n",
    "            mx = max(mx, self.tree[i])\n",
    "            i &= i - 1\n",
    "        return mx\n",
    "\n"
   ],
   "metadata": {
    "collapsed": false,
    "pycharm": {
     "name": "#%%\n"
    }
   }
  },
  {
   "cell_type": "code",
   "execution_count": null,
   "outputs": [],
   "source": [
    "# 树状数组\n",
    "## 通常是边更新，边查询的情况  随时更新区间范围\n",
    "class BIT:\n",
    "    def __init__(self, n: int):\n",
    "        self.tree = [0] * n  # 树状数组\n",
    "        self.original = [0] * n  # 原数组\n",
    "\n",
    "    def update(self, i: int, val: int) -> None:\n",
    "        self.original[i] = max(self.original[i], val)\n",
    "        while i < len(self.tree):\n",
    "            self.tree[i] = max(self.tree[i], val)\n",
    "            i += i & -i\n",
    "\n",
    "    def query_max(self, L: int, R: int) -> int:\n",
    "        mx = 0\n",
    "        while R >= L:\n",
    "            r = R & (R - 1)\n",
    "            # 查询先进行比较，看下一个r在不在查询范围内\n",
    "            if r >= L:\n",
    "                # 在查询范围内，直接从树状数组拿值比较\n",
    "                mx = max(mx, self.tree[R])\n",
    "                R = r\n",
    "            else:\n",
    "                # 只走一步，从原数组拿值比较\n",
    "                mx = max(mx, self.original[R])\n",
    "                R -= 1\n",
    "        return mx\n",
    "\n",
    "    # 统计 <= R 的元素个数\n",
    "    def query(self, R: int) -> int:\n",
    "        res = 0\n",
    "        while R > 0:\n",
    "            res += self.tree[R]\n",
    "            R &= (R - 1)\n",
    "        return res\n",
    "\n",
    "    def add(self, i: int, val: int) -> None:\n",
    "        while i < len(self.tree):\n",
    "            self.tree[i] += val\n",
    "            i += i & -i\n"
   ],
   "metadata": {
    "collapsed": false,
    "pycharm": {
     "name": "#%%\n"
    }
   }
  },
  {
   "cell_type": "code",
   "execution_count": null,
   "outputs": [],
   "source": [
    "# 二维树状数组 矩阵更新单个值，求区间面积\n",
    "class BIT2D:\n",
    "    def __init__(self, n, m):\n",
    "        self.n = n\n",
    "        self.m = m\n",
    "        self.BIT = [[0] * (m + 1) for _ in range(n + 1)]  # 初始化树状数组\n",
    "\n",
    "    def update(self, x, y, delta):\n",
    "        \"\"\"在 (x, y) 位置增加 delta\"\"\"\n",
    "        i = x\n",
    "        while i <= self.n:\n",
    "            j = y\n",
    "            while j <= self.m:\n",
    "                self.BIT[i][j] += delta\n",
    "                j += j & -j  # 更新 y 坐标\n",
    "            i += i & -i  # 更新 x 坐标\n",
    "\n",
    "    def query(self, x, y):\n",
    "        \"\"\"查询 (1, 1) 到 (x, y) 的区域和\"\"\"\n",
    "        sum = 0\n",
    "        i = x\n",
    "        while i > 0:\n",
    "            j = y\n",
    "            while j > 0:\n",
    "                sum += self.BIT[i][j]\n",
    "                j -= j & -j  # 退回 y 坐标\n",
    "            i -= i & -i  # 退回 x 坐标\n",
    "        return sum\n",
    "\n",
    "    def range_query(self, x1, y1, x2, y2):\n",
    "        \"\"\"查询 (x1, y1) 到 (x2, y2) 的区域和\"\"\"\n",
    "        return (self.query(x2, y2)\n",
    "                - self.query(x1 - 1, y2)\n",
    "                - self.query(x2, y1 - 1)\n",
    "                + self.query(x1 - 1, y1 - 1))\n",
    "\n",
    "# 示例用法\n",
    "n, m = 5, 5\n",
    "bit = BIT2D(n, m)\n",
    "\n",
    "# 更新点 (2, 3) 的值加 5\n",
    "bit.update(2, 3, 5)\n",
    "\n",
    "# 查询区域 (1, 1) 到 (3, 3) 的和\n",
    "result = bit.range_query(1, 1, 3, 3)\n",
    "print(result)  # 输出某个区域的和"
   ],
   "metadata": {
    "collapsed": false,
    "pycharm": {
     "name": "#%%\n"
    }
   }
  },
  {
   "cell_type": "code",
   "execution_count": null,
   "outputs": [],
   "source": [
    "# 并查集\n",
    "## 非数组情况的并查集\n",
    "class UnionFind:\n",
    "    def __init__(self):\n",
    "        self.parent = {}\n",
    "        self.rank = {}\n",
    "\n",
    "    def find(self, x):\n",
    "        if x not in self.parent:\n",
    "            self.parent[x] = x\n",
    "            self.rank[x] = 0\n",
    "        elif self.parent[x] != x:\n",
    "            self.parent[x] = self.find(self.parent[x])\n",
    "        return self.parent[x]\n",
    "\n",
    "    def union(self, x, y):\n",
    "        x_root = self.find(x)\n",
    "        y_root = self.find(y)\n",
    "\n",
    "        if x_root == y_root:\n",
    "            return\n",
    "\n",
    "        if self.rank[x_root] < self.rank[y_root]:\n",
    "            self.parent[x_root] = y_root\n",
    "        elif self.rank[x_root] > self.rank[y_root]:\n",
    "            self.parent[y_root] = x_root\n",
    "        else:\n",
    "            self.parent[y_root] = x_root\n",
    "            self.rank[x_root] += 1\n",
    "\n",
    "## 数组版\n",
    "class UnionFind:\n",
    "    def __init__(self, n):\n",
    "        self.parent = list(range(n))\n",
    "        self.size = [1] * n\n",
    "\n",
    "    def find(self, x):\n",
    "        if self.parent[x] != x:\n",
    "            self.parent[x] = self.find(self.parent[x])  # 路径压缩\n",
    "        return self.parent[x]\n",
    "\n",
    "    def union(self, x, y):\n",
    "        rootX = self.find(x)\n",
    "        rootY = self.find(y)\n",
    "        if rootX != rootY:\n",
    "            if self.size[rootX] < self.size[rootY]:\n",
    "                rootX, rootY = rootY, rootX\n",
    "            self.parent[rootY] = rootX\n",
    "            self.size[rootX] += self.size[rootY]\n",
    "\n",
    "    def getSize(self, x):\n",
    "        root = self.find(x)\n",
    "        return self.size[root]\n",
    "# https://leetcode.cn/problems/making-a-large-island/solutions/2808887/jian-ji-gao-xiao-ji-suan-dao-yu-de-mian-ab4h7/"
   ],
   "metadata": {
    "collapsed": false,
    "pycharm": {
     "name": "#%%\n"
    }
   }
  },
  {
   "cell_type": "code",
   "execution_count": 1,
   "outputs": [
    {
     "ename": "IndentationError",
     "evalue": "unexpected indent (3200444650.py, line 2)",
     "output_type": "error",
     "traceback": [
      "\u001B[1;36m  Cell \u001B[1;32mIn [1], line 2\u001B[1;36m\u001B[0m\n\u001B[1;33m    def find(self, x):\u001B[0m\n\u001B[1;37m    ^\u001B[0m\n\u001B[1;31mIndentationError\u001B[0m\u001B[1;31m:\u001B[0m unexpected indent\n"
     ]
    }
   ],
   "source": [
    "# 小技巧\n"
   ],
   "metadata": {
    "collapsed": false,
    "pycharm": {
     "name": "#%%\n"
    }
   }
  },
  {
   "cell_type": "markdown",
   "source": [
    "# 位运算\n",
    "```\n",
    "交换律和结合律\n",
    "a & b = b & a\n",
    "( a & b ) & c = a & ( b & c )\n",
    "\n",
    "分配律\n",
    "a & ( b | c ) = ( a & b ) | ( a & c )\n",
    "a ^ ( b | c ) = ( a ^ b) | (a ^ c)\n",
    "\n",
    "其它性质\n",
    "a | ( a & b ) = a\n",
    "a & ( a | b ) = a\n",
    "```\n"
   ],
   "metadata": {
    "collapsed": false,
    "pycharm": {
     "name": "#%% md\n"
    }
   }
  },
  {
   "cell_type": "code",
   "execution_count": null,
   "outputs": [],
   "source": [
    "# 前缀和\n",
    "\n",
    "# 二维前缀和\n",
    "class PrefixSum2D:\n",
    "    def __init__(self, matrix):\n",
    "        if not matrix or not matrix[0]:\n",
    "            self.prefix_sum = []\n",
    "            return\n",
    "\n",
    "        self.n = len(matrix)\n",
    "        self.m = len(matrix[0])\n",
    "        self.prefix_sum = [[0] * (self.m + 1) for _ in range(self.n + 1)]\n",
    "\n",
    "        # 构建前缀和矩阵\n",
    "        for i in range(1, self.n + 1):\n",
    "            for j in range(1, self.m + 1):\n",
    "                self.prefix_sum[i][j] = (matrix[i - 1][j - 1]\n",
    "                                         + self.prefix_sum[i - 1][j]\n",
    "                                         + self.prefix_sum[i][j - 1]\n",
    "                                         - self.prefix_sum[i - 1][j - 1])\n",
    "\n",
    "    def query(self, x1, y1, x2, y2):\n",
    "        \"\"\"查询从 (x1, y1) 到 (x2, y2) 的区域和\"\"\"\n",
    "        return (self.prefix_sum[x2 + 1][y2 + 1]\n",
    "                - self.prefix_sum[x1][y2 + 1]\n",
    "                - self.prefix_sum[x2 + 1][y1]\n",
    "                + self.prefix_sum[x1][y1])\n",
    "\n",
    "# 示例用法\n",
    "matrix = [\n",
    "    [1, 2, 3],\n",
    "    [4, 5, 6],\n",
    "    [7, 8, 9]\n",
    "]\n",
    "\n",
    "prefix_sum = PrefixSum2D(matrix)\n",
    "\n",
    "# 查询区域 (1, 1) 到 (2, 2) 的和\n",
    "result = prefix_sum.query(1, 1, 2, 2)\n",
    "print(result)  # 输出: 28 (5 + 6 + 8 + 9)"
   ],
   "metadata": {
    "collapsed": false,
    "pycharm": {
     "name": "#%%\n"
    }
   }
  },
  {
   "cell_type": "code",
   "execution_count": null,
   "outputs": [],
   "source": [
    "# 最近公共祖先"
   ],
   "metadata": {
    "collapsed": false,
    "pycharm": {
     "name": "#%%\n"
    }
   }
  },
  {
   "cell_type": "code",
   "execution_count": null,
   "outputs": [],
   "source": [
    "# 数论\n",
    "## math.ceil() 向上取整\n",
    "\n",
    "# 筛选质数的方法 埃拉托斯特尼筛法\n",
    "def sieve_of_eratosthenes(n):\n",
    "    is_prime = [True] * (n + 1)\n",
    "    is_prime[0] = is_prime[1] = False  # 0 和 1 不是质数\n",
    "\n",
    "    for i in range(2, int(n**0.5) + 1):\n",
    "        if is_prime[i]:\n",
    "            for j in range(i * i, n + 1, i):\n",
    "                is_prime[j] = False\n",
    "\n",
    "    return [i for i in range(n + 1) if is_prime[i]]"
   ],
   "metadata": {
    "collapsed": false,
    "pycharm": {
     "name": "#%%\n"
    }
   }
  },
  {
   "cell_type": "code",
   "execution_count": null,
   "outputs": [],
   "source": [],
   "metadata": {
    "collapsed": false,
    "pycharm": {
     "name": "#%%\n"
    }
   }
  },
  {
   "cell_type": "markdown",
   "source": [
    "# DP"
   ],
   "metadata": {
    "collapsed": false,
    "pycharm": {
     "name": "#%% md\n"
    }
   }
  },
  {
   "cell_type": "code",
   "execution_count": null,
   "outputs": [],
   "source": [
    "# 区间DP\n",
    "# 思想就是随着操作的进行，判断的范围越来越小，所以小长度开始遍历，逐步化解更大范围的问题\n",
    "# 模板\n",
    "# 思路一 往左边添加，或者往右边添加\n",
    "# 思路二 可以分解成更小的两个区间\n",
    "# 思路三 看开始和结束，不要有影响\n",
    "def interval_dp(self, nums: List[int]) :\n",
    "    n = len(nums)\n",
    "    dp = [[0] * n for _ in range(n+1)]\n",
    "    for l in range(n): # 长度从小到大\n",
    "        for i in range(n-l): # 以 i 为 开头\n",
    "            j = i + l           # 以 j 为 终点\n",
    "            for k in range(i,j): # 以 k 为分割点，进行分治\n",
    "                # Todo 业务逻辑\n",
    "                pass\n",
    "\n"
   ],
   "metadata": {
    "collapsed": false,
    "pycharm": {
     "name": "#%%\n"
    }
   }
  },
  {
   "cell_type": "code",
   "execution_count": null,
   "outputs": [],
   "source": [
    "# 区间dp模板\n",
    "def int_dp(s: str) -> int:\n",
    "    n = len(s)\n",
    "    dp = [[0] * n for _ in range(n)]\n",
    "    for i in range(n - 1, -1, -1):\n",
    "        dp[i][i] = 1\n",
    "        for j in range(i + 1, n):\n",
    "            if s[i] == s[j]:\n",
    "                dp[i][j] = dp[i + 1][j - 1] + 2\n",
    "            else:\n",
    "                dp[i][j] = max(dp[i + 1][j], dp[i][j - 1])\n",
    "    return dp[0][-1]\n",
    "\n",
    "\n"
   ],
   "metadata": {
    "collapsed": false,
    "pycharm": {
     "name": "#%%\n"
    }
   }
  },
  {
   "cell_type": "code",
   "execution_count": null,
   "outputs": [],
   "source": [
    "# 0-1背包\n",
    "## 二维数组\n",
    "def knapsack(weights, values, capacity):\n",
    "    n = len(weights)\n",
    "    # dp[i][j] 表示前 i 个物品，背包容量为 j 时的最大价值\n",
    "    dp = [[0] * (capacity + 1) for _ in range(n + 1)]\n",
    "\n",
    "    for i in range(1, n + 1):\n",
    "        for j in range(capacity + 1):\n",
    "            if j >= weights[i - 1]:  # 如果当前背包容量 j 足够放第 i 个物品\n",
    "                dp[i][j] = max(dp[i - 1][j], dp[i - 1][j - weights[i - 1]] + values[i - 1])\n",
    "            else:\n",
    "                dp[i][j] = dp[i - 1][j]  # 不放第 i 个物品\n",
    "\n",
    "    return dp[n][capacity]  # 返回最大价值\n",
    "\n",
    "\n",
    "# 示例用法\n",
    "weights = [2, 3, 4, 5]\n",
    "values = [3, 4, 5, 6]\n",
    "capacity = 5\n",
    "result = knapsack(weights, values, capacity)\n",
    "print(result)  # 输出最大价值\n",
    "\n",
    "\n",
    "## 空间优化\n",
    "def knapsack(weights, values, capacity):\n",
    "    n = len(weights)\n",
    "    dp = [0] * (capacity + 1)\n",
    "\n",
    "    for i in range(n):\n",
    "        for j in range(capacity, weights[i] - 1, -1):  # 从后向前更新\n",
    "            dp[j] = max(dp[j], dp[j - weights[i]] + values[i])\n",
    "\n",
    "    return dp[capacity]\n",
    "\n",
    "# 示例用法\n",
    "weights = [2, 3, 4, 5]\n",
    "values = [3, 4, 5, 6]\n",
    "capacity = 5\n",
    "result = knapsack(weights, values, capacity)\n",
    "print(result)  # 输出最大价值\n"
   ],
   "metadata": {
    "collapsed": false,
    "pycharm": {
     "name": "#%%\n"
    }
   }
  },
  {
   "cell_type": "code",
   "execution_count": 3,
   "outputs": [
    {
     "data": {
      "text/plain": "213"
     },
     "execution_count": 3,
     "metadata": {},
     "output_type": "execute_result"
    }
   ],
   "source": [
    "# 数位dp\n",
    "## i 从0往高位， 高位是否限制了\n",
    "low = str(10)\n",
    "high = str(222)\n",
    "n = len(high)\n",
    "# low 需要保持数位一致，补充前导零\n",
    "low = low.zfill(len(high))\n",
    "\n",
    "# 不考虑前导零\n",
    "@cache\n",
    "def digit_dp(i, limit_low, limit_high):\n",
    "    if i == n:\n",
    "        return 1\n",
    "\n",
    "    # i 的枚举范围， 这里不能改\n",
    "    lo = int(low[i]) if limit_low else 0\n",
    "    hi = int(high[i]) if limit_high else 9\n",
    "\n",
    "    res = 0\n",
    "    # 如果对数位有约束，可以在这里做限制\n",
    "    for d in range(lo, hi + 1):\n",
    "        res += digit_dp(i+1, limit_low and d == lo, limit_high and d == hi)\n",
    "    return res\n",
    "\n",
    "digit_dp(0, True, True)\n",
    "\n",
    "\n",
    "# 有前导零 is_num 前面是否填了0\n",
    "@cache\n",
    "def digit_dp(i, limit_low, limit_high, is_num):\n",
    "    if i == n:\n",
    "        return 1\n",
    "    res = 0\n",
    "    # 前面为0 这里也可以是0, 肯定有下界的约束, 有前导零肯定比上界短，所以limit_high为False\n",
    "    if not is_num and low[i] == '0':\n",
    "        res += digit_dp(i + 1, True, False, False)\n",
    "\n",
    "    # i 的枚举范围， 这里不能改\n",
    "    lo = int(low[i]) if limit_low else 0\n",
    "    hi = int(high[i]) if limit_high else 9\n",
    "\n",
    "\n",
    "    # 如果对数位有约束，可以在这里做限制\n",
    "    for d in range(lo, hi + 1):\n",
    "        res += digit_dp(i+1, limit_low and d == lo, limit_high and d == hi)\n",
    "    return res\n",
    "\n",
    "digit_dp(0, True, True, False)"
   ],
   "metadata": {
    "collapsed": false,
    "pycharm": {
     "name": "#%%\n"
    }
   }
  },
  {
   "cell_type": "code",
   "execution_count": null,
   "outputs": [],
   "source": [
    "# 树形dp\n",
    "## 头结点到任何节点是唯一的\n",
    "## 依赖关系比较简单：父依赖子\n",
    "\n",
    "# 套路\n",
    "## 父树需要的答案需要子树提供什么信息\n",
    "## 把子树信息的全集定义成递归信返回\n",
    "class TreeNode:\n",
    "    def __init__(self, value):\n",
    "        self.value = value\n",
    "        self.children = []\n",
    "\n",
    "def dfs(node):\n",
    "    # 如果是叶子节点，返回自定义的值\n",
    "    if not node.children:\n",
    "        return node.value  # 可以是其他与问题相关的值\n",
    "\n",
    "    # 记录子树的状态\n",
    "    max_value = 0\n",
    "\n",
    "    for child in node.children:\n",
    "        max_value = max(max_value, dfs(child))  # 递归计算子节点的值\n",
    "\n",
    "    # 结合当前节点的值，返回结果\n",
    "    return max_value + node.value  # 根据需要进行调整\n",
    "\n",
    "# 示例用法\n",
    "root = TreeNode(1)\n",
    "child1 = TreeNode(2)\n",
    "child2 = TreeNode(3)\n",
    "child1.children.append(TreeNode(4))\n",
    "child1.children.append(TreeNode(5))\n",
    "child2.children.append(TreeNode(6))\n",
    "root.children.append(child1)\n",
    "root.children.append(child2)\n",
    "\n",
    "result = dfs(root)\n",
    "print(result)  # 输出树的某种特征（如最大路径和）\n"
   ],
   "metadata": {
    "collapsed": false,
    "pycharm": {
     "name": "#%%\n"
    }
   }
  },
  {
   "cell_type": "code",
   "execution_count": null,
   "outputs": [],
   "source": [
    "# 划分型dp\n",
    "# dp[i][j]前i 划分成 j个"
   ],
   "metadata": {
    "collapsed": false,
    "pycharm": {
     "name": "#%%\n"
    }
   }
  },
  {
   "cell_type": "code",
   "execution_count": null,
   "outputs": [],
   "source": [
    "# 换根dp\n",
    "class TreeNode:\n",
    "    def __init__(self, value):\n",
    "        self.value = value\n",
    "        self.children = []\n",
    "\n",
    "def dfs1(node, parent):\n",
    "    # 第一次 DFS 计算每个节点的子树信息\n",
    "    subtree_value = node.value  # 当前节点的初始值\n",
    "\n",
    "    for child in node.children:\n",
    "        if child != parent:  # 避免回到父节点\n",
    "            subtree_value += dfs1(child, node)  # 递归计算子树的值\n",
    "\n",
    "    # 存储子树的值\n",
    "    node.subtree_value = subtree_value\n",
    "    return subtree_value\n",
    "\n",
    "def dfs2(node, parent, total_value):\n",
    "    # 第二次 DFS 计算换根后的值\n",
    "    node.value = total_value  # 更新当前节点的值\n",
    "\n",
    "    for child in node.children:\n",
    "        if child != parent:\n",
    "            # 计算换根后，子节点的值\n",
    "            new_value = total_value - child.subtree_value + (total_value - node.value)\n",
    "            dfs2(child, node, new_value)  # 递归计算\n",
    "\n",
    "# 示例用法\n",
    "root = TreeNode(1)\n",
    "child1 = TreeNode(2)\n",
    "child2 = TreeNode(3)\n",
    "child1.children.append(TreeNode(4))\n",
    "child1.children.append(TreeNode(5))\n",
    "child2.children.append(TreeNode(6))\n",
    "root.children.append(child1)\n",
    "root.children.append(child2)\n",
    "\n",
    "# 第一次 DFS 计算每个节点的子树值\n",
    "dfs1(root, None)\n",
    "\n",
    "# 第二次 DFS 从根节点开始，换根计算\n",
    "total_value = root.subtree_value  # 根节点的总值\n",
    "dfs2(root, None, total_value)\n",
    "\n",
    "# 输出结果\n",
    "def print_tree(node):\n",
    "    print(f\"Node Value: {node.value}\")\n",
    "    for child in node.children:\n",
    "        print_tree(child)\n",
    "\n",
    "print_tree(root)"
   ],
   "metadata": {
    "collapsed": false,
    "pycharm": {
     "name": "#%%\n"
    }
   }
  },
  {
   "cell_type": "code",
   "execution_count": null,
   "outputs": [],
   "source": [
    "# 状态压缩dp 一般32位 样本量在20之内\n",
    "def state_compression_dp(n):\n",
    "    # dp[mask] 表示状态为 mask 时的最优解\n",
    "    dp = [0] * (1 << n)  # 2^n 个状态\n",
    "\n",
    "    for mask in range(1 << n):\n",
    "        # 遍历当前状态 mask\n",
    "        for i in range(n):\n",
    "            if mask & (1 << i) == 0:  # 如果 i 还没有被选择\n",
    "                new_mask = mask | (1 << i)  # 选择 i，更新状态\n",
    "                # 根据具体问题更新 dp[new_mask]\n",
    "                dp[new_mask] = max(dp[new_mask], dp[mask] + value(i, mask))  # 示例更新\n",
    "\n",
    "    return dp[(1 << n) - 1]  # 返回所有状态都被选择时的结果\n",
    "\n",
    "def value(i, mask):\n",
    "    # 根据当前选择的 i 和状态 mask 计算价值\n",
    "    # 这里可以根据具体问题进行实现\n",
    "    return 1  # 示例：每次选择的价值都为 1\n",
    "\n",
    "# 示例用法\n",
    "n = 3  # 例如有 3 个物品\n",
    "result = state_compression_dp(n)\n",
    "print(result)  # 输出最优解"
   ],
   "metadata": {
    "collapsed": false,
    "pycharm": {
     "name": "#%%\n"
    }
   }
  },
  {
   "cell_type": "code",
   "execution_count": null,
   "outputs": [],
   "source": [
    "# 线段树\n",
    "## 区间长度很长，但是实际上要用很短 --> 离散化\n",
    "## 区间问题如果只查询最后一次，那么其实用差分数组就行了\n",
    "## 区间一直更新，还有一直查询，那就是线段树"
   ],
   "metadata": {
    "collapsed": false,
    "pycharm": {
     "name": "#%%\n"
    }
   }
  },
  {
   "cell_type": "code",
   "execution_count": null,
   "outputs": [],
   "source": [
    "class SegmentTree:\n",
    "    def __init__(self, nums):\n",
    "        self.n = len(nums)\n",
    "        self.tree = [0] * (4 * self.n)  # 线段树\n",
    "        self.build(nums, 1, 0, self.n - 1)  # 从1开始的节点索引\n",
    "\n",
    "    def pushup(self, left_part, right_part):\n",
    "        return  max(left_part, right_part)\n",
    "        # return left_part + right_part\n",
    "\n",
    "    def build(self, nums, node, l, r):\n",
    "        if l == r:\n",
    "            self.tree[node] = nums[l]  # 从0索引转换为1索引\n",
    "        else:\n",
    "            mid = (l + r) // 2\n",
    "            self.build(nums, 2 * node, l, mid)\n",
    "            self.build(nums, 2 * node + 1, mid + 1, r)\n",
    "            self.tree[node] = self.pushup(self.tree[2 * node], self.tree[2 * node + 1])\n",
    "\n",
    "    def update(self, idx, value):\n",
    "        self._update(1, 0, self.n - 1, idx, value)\n",
    "\n",
    "    def _update(self, node, l, r, idx, value):\n",
    "        if l == r:  # 叶子节点\n",
    "            self.tree[node] = value\n",
    "        else:\n",
    "            mid = (l + r) // 2\n",
    "            if l <= idx <= mid:\n",
    "                self._update(2 * node, l, mid, idx, value)\n",
    "            else:\n",
    "                self._update(2 * node + 1, mid + 1, r, idx, value)\n",
    "            self.tree[node] = self.pushup(self.tree[2 * node], self.tree[2 * node + 1])\n",
    "\n",
    "    def query_range(self, L, R):\n",
    "        return self._query_range(1, 0, self.n - 1, L, R)\n",
    "\n",
    "    def _query_range(self, node, l, r, L, R):\n",
    "        if R < l or L > r:  # 范围不交\n",
    "            return 0\n",
    "        if L <= l and R >= r:  # 完全包含\n",
    "            return self.tree[node]\n",
    "\n",
    "        mid = (l + r) // 2\n",
    "        left_sum = self._query_range(2 * node, l, mid, L, R)\n",
    "        right_sum = self._query_range(2 * node + 1, mid + 1, r, L, R)\n",
    "        return self.pushup(left_sum, right_sum)\n",
    "\n",
    "# 示例用法\n",
    "nums = [1, 2, 3, 4, 5]\n",
    "seg_tree = SegmentTree(nums)\n",
    "\n",
    "# 更新索引 2 的值为 10 (0-indexed)\n",
    "seg_tree.update(2, 10)\n",
    "\n",
    "# 查询区间 [1, 4] (0-indexed)\n",
    "result = seg_tree.query_range(1, 4)\n",
    "print(result)  # 输出更新后的区间和"
   ],
   "metadata": {
    "collapsed": false,
    "pycharm": {
     "name": "#%%\n"
    }
   }
  },
  {
   "cell_type": "code",
   "execution_count": null,
   "outputs": [],
   "source": [
    "# 懒更新线段树 区间更新\n",
    "class LazySegmentTree:\n",
    "    def __init__(self, nums):\n",
    "        self.n = len(nums)\n",
    "        self.tree = [0] * (4 * self.n)  # 线段树\n",
    "        self.lazy = [0] * (4 * self.n)   # 懒标记\n",
    "        self.build(nums, 1, 0, self.n - 1)  # 从1开始的节点索引\n",
    "\n",
    "    def build(self, nums, node, l, r):\n",
    "        if l == r:\n",
    "            self.tree[node] = nums[l]  # nums 从0开始\n",
    "        else:\n",
    "            mid = (l + r) // 2\n",
    "            self.build(nums, 2 * node, l, mid)\n",
    "            self.build(nums, 2 * node + 1, mid + 1, r)\n",
    "            self.tree[node] = self.tree[2 * node] + self.tree[2 * node + 1]\n",
    "\n",
    "    def update_range(self, L, R, val):\n",
    "        self._update_range(1, 0, self.n - 1, L, R, val)\n",
    "\n",
    "    def _update_range(self, node, l, r, L, R, val):\n",
    "        if self.lazy[node] != 0:  # 如果有懒更新\n",
    "            self.tree[node] += (r - l + 1) * self.lazy[node]\n",
    "            if l != r:\n",
    "                self.lazy[2 * node] += self.lazy[node]\n",
    "                self.lazy[2 * node + 1] += self.lazy[node]\n",
    "            self.lazy[node] = 0\n",
    "\n",
    "        if l > r or l > R or r < L:\n",
    "            return\n",
    "\n",
    "        if l >= L and r <= R:\n",
    "            self.tree[node] += (r - l + 1) * val\n",
    "            if l != r:\n",
    "                self.lazy[2 * node] += val\n",
    "                self.lazy[2 * node + 1] += val\n",
    "            return\n",
    "\n",
    "        mid = (l + r) // 2\n",
    "        self._update_range(2 * node, l, mid, L, R, val)\n",
    "        self._update_range(2 * node + 1, mid + 1, r, L, R, val)\n",
    "        self.tree[node] = self.tree[2 * node] + self.tree[2 * node + 1]\n",
    "\n",
    "    def query_range(self, L, R):\n",
    "        return self._query_range(1, 0, self.n - 1, L, R)\n",
    "\n",
    "    def _query_range(self, node, l, r, L, R):\n",
    "        if l > r or l > R or r < L:\n",
    "            return 0\n",
    "\n",
    "        if self.lazy[node] != 0:  # 如果有懒更新\n",
    "            self.tree[node] += (r - l + 1) * self.lazy[node]\n",
    "            if l != r:\n",
    "                self.lazy[2 * node] += self.lazy[node]\n",
    "                self.lazy[2 * node + 1] += self.lazy[node]\n",
    "            self.lazy[node] = 0\n",
    "\n",
    "        if l >= L and r <= R:\n",
    "            return self.tree[node]\n",
    "\n",
    "        mid = (l + r) // 2\n",
    "        left_sum = self._query_range(2 * node, l, mid, L, R)\n",
    "        right_sum = self._query_range(2 * node + 1, mid + 1, r, L, R)\n",
    "        return left_sum + right_sum\n",
    "\n",
    "# 示例用法\n",
    "nums = [1, 2, 3, 4, 5]\n",
    "seg_tree = LazySegmentTree(nums)\n",
    "\n",
    "# 更新区间 [1, 3] 加 10 (0-indexed)\n",
    "seg_tree.update_range(1, 3, 10)\n",
    "\n",
    "# 查询区间 [0, 4] (0-indexed)\n",
    "result = seg_tree.query_range(0, 4)\n",
    "print(result)  # 输出更新后的区间和"
   ],
   "metadata": {
    "collapsed": false,
    "pycharm": {
     "name": "#%%\n"
    }
   }
  },
  {
   "cell_type": "code",
   "execution_count": null,
   "outputs": [],
   "source": [
    "# 动态开点线段树 单点更新，区间查询（求和）\n",
    "class Node:\n",
    "    def __init__(self):\n",
    "        self.sum = 0        # 该区间的和\n",
    "        self.left = None    # 左子节点\n",
    "        self.right = None   # 右子节点\n",
    "\n",
    "class DynamicSegmentTree:\n",
    "    def __init__(self, nums):\n",
    "        self.root = Node()\n",
    "        self.nums = nums\n",
    "        self.build(self.root, 0, len(nums) - 1)\n",
    "\n",
    "    def build(self, node, l, r):\n",
    "        if l == r:\n",
    "            node.sum = self.nums[l]  # 叶子节点\n",
    "        else:\n",
    "            mid = (l + r) // 2\n",
    "            node.left = Node()\n",
    "            node.right = Node()\n",
    "            self.build(node.left, l, mid)\n",
    "            self.build(node.right, mid + 1, r)\n",
    "            node.sum = node.left.sum + node.right.sum\n",
    "\n",
    "    def update(self, idx, value):\n",
    "        self._update(self.root, 0, len(self.nums) - 1, idx, value)\n",
    "\n",
    "    def _update(self, node, l, r, idx, value):\n",
    "        if l == r:  # 叶子节点\n",
    "            node.sum = value\n",
    "        else:\n",
    "            mid = (l + r) // 2\n",
    "            if idx <= mid:\n",
    "                if node.left is None:\n",
    "                    node.left = Node()\n",
    "                self._update(node.left, l, mid, idx, value)\n",
    "            else:\n",
    "                if node.right is None:\n",
    "                    node.right = Node()\n",
    "                self._update(node.right, mid + 1, r, idx, value)\n",
    "            node.sum = (node.left.sum if node.left else 0) + (node.right.sum if node.right else 0)\n",
    "\n",
    "    def query_range(self, L, R):\n",
    "        return self._query_range(self.root, 0, len(self.nums) - 1, L, R)\n",
    "\n",
    "    def _query_range(self, node, l, r, L, R):\n",
    "        if node is None or L > r or R < l:  # 范围不交\n",
    "            return 0\n",
    "        if L <= l and R >= r:  # 完全包含\n",
    "            return node.sum\n",
    "\n",
    "        mid = (l + r) // 2\n",
    "        left_sum = self._query_range(node.left, l, mid, L, R)\n",
    "        right_sum = self._query_range(node.right, mid + 1, r, L, R)\n",
    "        return left_sum + right_sum\n",
    "\n",
    "# 示例用法\n",
    "nums = [1, 2, 3, 4, 5]\n",
    "seg_tree = DynamicSegmentTree(nums)\n",
    "\n",
    "# 更新索引 2 的值为 10 (0-indexed)\n",
    "seg_tree.update(2, 10)\n",
    "\n",
    "# 查询区间 [1, 4] (0-indexed)\n",
    "result = seg_tree.query_range(1, 4)\n",
    "print(result)  # 输出更新后的区间和"
   ],
   "metadata": {
    "collapsed": false,
    "pycharm": {
     "name": "#%%\n"
    }
   }
  },
  {
   "cell_type": "code",
   "execution_count": null,
   "outputs": [],
   "source": [
    "# 字典树、前缀树模板\n",
    "class TrieNode:\n",
    "    def __init__(self):\n",
    "        self.children = {}  # 存储子节点\n",
    "        self.is_end_of_word = False  # 标记是否为单词的结尾\n",
    "\n",
    "class Trie:\n",
    "    def __init__(self):\n",
    "        self.root = TrieNode()  # 初始化根节点\n",
    "\n",
    "    def insert(self, word):\n",
    "        node = self.root\n",
    "        for char in word:\n",
    "            if char not in node.children:\n",
    "                node.children[char] = TrieNode()  # 创建子节点\n",
    "            node = node.children[char]\n",
    "        node.is_end_of_word = True  # 标记单词的结束\n",
    "\n",
    "    def search(self, word):\n",
    "        node = self.root\n",
    "        for char in word:\n",
    "            if char not in node.children:\n",
    "                return False  # 如果字符不存在，则返回 False\n",
    "            node = node.children[char]\n",
    "        return node.is_end_of_word  # 返回是否为单词的结尾\n",
    "\n",
    "    def starts_with(self, prefix):\n",
    "        node = self.root\n",
    "        for char in prefix:\n",
    "            if char not in node.children:\n",
    "                return False  # 如果前缀不存在，则返回 False\n",
    "            node = node.children[char]\n",
    "        return True  # 如果所有字符都存在，则返回 True\n",
    "\n",
    "# 示例用法\n",
    "trie = Trie()\n",
    "trie.insert(\"hello\")\n",
    "trie.insert(\"helicopter\")\n",
    "\n",
    "print(trie.search(\"hello\"))      # 输出: True\n",
    "print(trie.search(\"hell\"))       # 输出: False\n",
    "print(trie.starts_with(\"hel\"))   # 输出: True"
   ],
   "metadata": {
    "collapsed": false,
    "pycharm": {
     "name": "#%%\n"
    }
   }
  },
  {
   "cell_type": "markdown",
   "source": [
    "# 数论\n",
    "# 除法同余\n",
    "(a / b ) % mod = c\n",
    "1. 保证 a / b 可以整除\n",
    "2. 保证 mod 是质数\n",
    "3. 保证 b 和 mod 互质（最大公约数为1）\n",
    "\n",
    "逆元c =  (b ^(mod - 2)) % mod\n",
    "(a * c) % d\n",
    "\n",
    "# 费马小定理\n",
    "\n",
    "\n",
    "# 裴蜀定理\n",
    "ax %b = 1   (a ， b 互质)\n",
    "ax -b * k = 1\n",
    "x = (x % b + b) % b\n",
    "\n",
    "ax + by = gcd(a, b) 对任意x，y 存在有gcd\n",
    "最小正整数 gcd(a, b)\n",
    "\n",
    "# 拓展欧几里得算法求逆元\n",
    "ax + by = gcd(a, b)\n",
    "\n"
   ],
   "metadata": {
    "collapsed": false,
    "pycharm": {
     "name": "#%% md\n"
    }
   }
  },
  {
   "cell_type": "code",
   "execution_count": null,
   "outputs": [],
   "source": [
    "# 拓展欧几里得算法，已知a, b 求 x\n",
    "def extended_gcd(a, b):\n",
    "    if b == 0:\n",
    "        return a, 1, 0  # 返回 gcd, x, y\n",
    "    gcd, x1, y1 = extended_gcd(b, a % b)  # 递归调用\n",
    "    x = y1  # 更新 x\n",
    "    y = x1 - (a // b) * y1  # 更新 y\n",
    "    return gcd, x, y"
   ],
   "metadata": {
    "collapsed": false,
    "pycharm": {
     "name": "#%%\n"
    }
   }
  },
  {
   "cell_type": "code",
   "execution_count": null,
   "outputs": [],
   "source": [
    "# kmp 算法\n",
    "def build_lps(pattern):\n",
    "    lps = [0] * len(pattern)\n",
    "    j = 0  # 前缀匹配的长度\n",
    "\n",
    "    for i in range(1, len(pattern)):\n",
    "        while j > 0 and pattern[i] != pattern[j]:\n",
    "            j = lps[j-1]\n",
    "        if pattern[i] == pattern[j]:\n",
    "            j += 1\n",
    "        lps[i] = j\n",
    "\n",
    "    return lps\n",
    "\n",
    "def kmp(text, pattern):\n",
    "    if not pattern:\n",
    "        return 0\n",
    "\n",
    "    lps = build_lps(pattern)\n",
    "    j = 0  # 模式串匹配的长度\n",
    "\n",
    "    for i in range(len(text)):\n",
    "        while j > 0 and text[i] != pattern[j]:\n",
    "            j = lps[j-1]\n",
    "        if text[i] == pattern[j]:\n",
    "            j += 1\n",
    "        if j == len(pattern):\n",
    "            return i - j + 1\n",
    "\n",
    "    return -1\n",
    "\n",
    "# 测试代码\n",
    "text = \"ABABDABACDABABCABAB\"\n",
    "pattern = \"ABABCABAB\"\n",
    "result = kmp(text, pattern)\n",
    "print(result)  # 输出10，模式串在文本串中的起始位置"
   ],
   "metadata": {
    "collapsed": false,
    "pycharm": {
     "name": "#%%\n"
    }
   }
  },
  {
   "cell_type": "code",
   "execution_count": null,
   "outputs": [],
   "source": [
    "# z函数\n",
    "def calculate_z_function(s):\n",
    "    n = len(s)\n",
    "    z = [0] * n\n",
    "    l = r = 0\n",
    "\n",
    "    for i in range(1, n):\n",
    "        if i <= r:\n",
    "            z[i] = min(r - i + 1, z[i - l])\n",
    "        while i + z[i] < n and s[z[i]] == s[i + z[i]]:\n",
    "            z[i] += 1\n",
    "        if i + z[i] - 1 > r:\n",
    "            l, r = i, i + z[i] - 1\n",
    "\n",
    "    return z\n",
    "\n",
    "# 测试代码\n",
    "string = \"abacaba\"\n",
    "z_values = calculate_z_function(string)\n",
    "print(z_values)  # 输出 [0, 0, 1, 0, 3, 0, 1]"
   ],
   "metadata": {
    "collapsed": false,
    "pycharm": {
     "name": "#%%\n"
    }
   }
  }
 ],
 "metadata": {
  "kernelspec": {
   "display_name": "Python 3",
   "language": "python",
   "name": "python3"
  },
  "language_info": {
   "codemirror_mode": {
    "name": "ipython",
    "version": 2
   },
   "file_extension": ".py",
   "mimetype": "text/x-python",
   "name": "python",
   "nbconvert_exporter": "python",
   "pygments_lexer": "ipython2",
   "version": "2.7.6"
  }
 },
 "nbformat": 4,
 "nbformat_minor": 0
}