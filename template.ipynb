{
 "cells": [
  {
   "cell_type": "code",
   "execution_count": 1,
   "outputs": [],
   "source": [
    "from functools import cache\n",
    "from typing import *\n",
    "from math import inf\n",
    "from collections import Counter, defaultdict\n",
    "from bisect import bisect_left, bisect_right\n",
    "from sortedcontainers import SortedList, SortedDict, SortedSet\n",
    "from itertools import accumulate"
   ],
   "metadata": {
    "collapsed": false,
    "pycharm": {
     "name": "#%%\n"
    }
   }
  },
  {
   "cell_type": "markdown",
   "source": [
    "# 数据结构"
   ],
   "metadata": {
    "collapsed": false,
    "pycharm": {
     "name": "#%% md\n"
    }
   }
  },
  {
   "cell_type": "code",
   "execution_count": null,
   "outputs": [],
   "source": [
    "# 树状数组 离散化\n",
    "# 树状数组模板（维护前缀最大值）\n",
    "class BIT:\n",
    "    def __init__(self, n: int):\n",
    "        self.tree = [-inf] * n\n",
    "\n",
    "    def update(self, i: int, val: int) -> None:\n",
    "        while i < len(self.tree):\n",
    "            self.tree[i] = max(self.tree[i], val)\n",
    "            i += i & -i\n",
    "\n",
    "    def pre_max(self, i: int) -> int:\n",
    "        mx = -inf\n",
    "        while i > 0:\n",
    "            mx = max(mx, self.tree[i])\n",
    "            i &= i - 1\n",
    "        return mx\n",
    "\n"
   ],
   "metadata": {
    "collapsed": false,
    "pycharm": {
     "name": "#%%\n"
    }
   }
  },
  {
   "cell_type": "code",
   "execution_count": null,
   "outputs": [],
   "source": [
    "# 树状数组\n",
    "## 通常是边更新，边查询的情况  随时更新区间范围\n",
    "class BIT:\n",
    "    def __init__(self, n: int):\n",
    "        self.tree = [0] * n  # 树状数组\n",
    "        self.original = [0] * n  # 原数组\n",
    "\n",
    "    def update(self, i: int, val: int) -> None:\n",
    "        self.original[i] = max(self.original[i], val)\n",
    "        while i < len(self.tree):\n",
    "            self.tree[i] = max(self.tree[i], val)\n",
    "            i += i & -i\n",
    "\n",
    "    def query_max(self, L: int, R: int) -> int:\n",
    "        mx = 0\n",
    "        while R >= L:\n",
    "            r = R & (R - 1)\n",
    "            # 查询先进行比较，看下一个r在不在查询范围内\n",
    "            if r >= L:\n",
    "                # 在查询范围内，直接从树状数组拿值比较\n",
    "                mx = max(mx, self.tree[R])\n",
    "                R = r\n",
    "            else:\n",
    "                # 只走一步，从原数组拿值比较\n",
    "                mx = max(mx, self.original[R])\n",
    "                R -= 1\n",
    "        return mx\n",
    "\n",
    "    # 统计 <= R 的元素个数\n",
    "    def query(self, R: int) -> int:\n",
    "        res = 0\n",
    "        while R > 0:\n",
    "            res += self.tree[R]\n",
    "            R &= (R - 1)\n",
    "        return res\n",
    "\n",
    "    def add(self, i: int, val: int) -> None:\n",
    "        while i < len(self.tree):\n",
    "            self.tree[i] += val\n",
    "            i += i & -i\n"
   ],
   "metadata": {
    "collapsed": false,
    "pycharm": {
     "name": "#%%\n"
    }
   }
  },
  {
   "cell_type": "code",
   "execution_count": null,
   "outputs": [],
   "source": [
    "# 并查集\n",
    "## 非数组情况的并查集\n",
    "class UnionFind:\n",
    "    def __init__(self):\n",
    "        self.parent = {}\n",
    "        self.rank = {}\n",
    "\n",
    "    def find(self, x):\n",
    "        if x not in self.parent:\n",
    "            self.parent[x] = x\n",
    "            self.rank[x] = 0\n",
    "        elif self.parent[x] != x:\n",
    "            self.parent[x] = self.find(self.parent[x])\n",
    "        return self.parent[x]\n",
    "\n",
    "    def union(self, x, y):\n",
    "        x_root = self.find(x)\n",
    "        y_root = self.find(y)\n",
    "\n",
    "        if x_root == y_root:\n",
    "            return\n",
    "\n",
    "        if self.rank[x_root] < self.rank[y_root]:\n",
    "            self.parent[x_root] = y_root\n",
    "        elif self.rank[x_root] > self.rank[y_root]:\n",
    "            self.parent[y_root] = x_root\n",
    "        else:\n",
    "            self.parent[y_root] = x_root\n",
    "            self.rank[x_root] += 1\n",
    "\n",
    "## 数组版\n",
    "class UnionFind:\n",
    "    def __init__(self, n):\n",
    "        self.parent = list(range(n))\n",
    "        self.size = [1] * n\n",
    "\n",
    "    def find(self, x):\n",
    "        if self.parent[x] != x:\n",
    "            self.parent[x] = self.find(self.parent[x])  # 路径压缩\n",
    "        return self.parent[x]\n",
    "\n",
    "    def union(self, x, y):\n",
    "        rootX = self.find(x)\n",
    "        rootY = self.find(y)\n",
    "        if rootX != rootY:\n",
    "            if self.size[rootX] < self.size[rootY]:\n",
    "                rootX, rootY = rootY, rootX\n",
    "            self.parent[rootY] = rootX\n",
    "            self.size[rootX] += self.size[rootY]\n",
    "\n",
    "    def getSize(self, x):\n",
    "        root = self.find(x)\n",
    "        return self.size[root]\n",
    "# https://leetcode.cn/problems/making-a-large-island/solutions/2808887/jian-ji-gao-xiao-ji-suan-dao-yu-de-mian-ab4h7/"
   ],
   "metadata": {
    "collapsed": false,
    "pycharm": {
     "name": "#%%\n"
    }
   }
  },
  {
   "cell_type": "code",
   "execution_count": 1,
   "outputs": [
    {
     "ename": "IndentationError",
     "evalue": "unexpected indent (3200444650.py, line 2)",
     "output_type": "error",
     "traceback": [
      "\u001B[1;36m  Cell \u001B[1;32mIn [1], line 2\u001B[1;36m\u001B[0m\n\u001B[1;33m    def find(self, x):\u001B[0m\n\u001B[1;37m    ^\u001B[0m\n\u001B[1;31mIndentationError\u001B[0m\u001B[1;31m:\u001B[0m unexpected indent\n"
     ]
    }
   ],
   "source": [
    "# 小技巧\n"
   ],
   "metadata": {
    "collapsed": false,
    "pycharm": {
     "name": "#%%\n"
    }
   }
  },
  {
   "cell_type": "markdown",
   "source": [
    "# 位运算\n",
    "```\n",
    "交换律和结合律\n",
    "a & b = b & a\n",
    "( a & b ) & c = a & ( b & c )\n",
    "\n",
    "分配律\n",
    "a & ( b | c ) = ( a & b ) | ( a & c )\n",
    "a ^ ( b | c ) = ( a ^ b) | (a ^ c)\n",
    "\n",
    "其它性质\n",
    "a | ( a & b ) = a\n",
    "a & ( a | b ) = a\n",
    "```\n"
   ],
   "metadata": {
    "collapsed": false,
    "pycharm": {
     "name": "#%% md\n"
    }
   }
  },
  {
   "cell_type": "code",
   "execution_count": null,
   "outputs": [],
   "source": [
    "# 前缀和"
   ],
   "metadata": {
    "collapsed": false,
    "pycharm": {
     "name": "#%%\n"
    }
   }
  },
  {
   "cell_type": "code",
   "execution_count": null,
   "outputs": [],
   "source": [
    "# 最近公共祖先"
   ],
   "metadata": {
    "collapsed": false,
    "pycharm": {
     "name": "#%%\n"
    }
   }
  },
  {
   "cell_type": "code",
   "execution_count": null,
   "outputs": [],
   "source": [
    "# 数论\n",
    "## math.ceil() 向上取整\n",
    "\n",
    "# 筛选质数的方法 埃拉托斯特尼筛法\n",
    "def sieve_of_eratosthenes(n):\n",
    "    is_prime = [True] * (n + 1)\n",
    "    is_prime[0] = is_prime[1] = False  # 0 和 1 不是质数\n",
    "\n",
    "    for i in range(2, int(n**0.5) + 1):\n",
    "        if is_prime[i]:\n",
    "            for j in range(i * i, n + 1, i):\n",
    "                is_prime[j] = False\n",
    "\n",
    "    return [i for i in range(n + 1) if is_prime[i]]"
   ],
   "metadata": {
    "collapsed": false,
    "pycharm": {
     "name": "#%%\n"
    }
   }
  },
  {
   "cell_type": "markdown",
   "source": [
    "# DP"
   ],
   "metadata": {
    "collapsed": false,
    "pycharm": {
     "name": "#%% md\n"
    }
   }
  },
  {
   "cell_type": "code",
   "execution_count": null,
   "outputs": [],
   "source": [
    "# 区间DP\n",
    "# 思想就是随着操作的进行，判断的范围越来越小，所以小长度开始遍历，逐步化解更大范围的问题\n",
    "# 模板\n",
    "# 思路一 往左边添加，或者往右边添加\n",
    "# 思路二 可以分解成更小的两个区间\n",
    "# 思路三 看开始和结束，不要有影响\n",
    "def interval_dp(self, nums: List[int]) :\n",
    "    n = len(nums)\n",
    "    dp = [[0] * n for _ in range(n+1)]\n",
    "    for l in range(n): # 长度从小到大\n",
    "        for i in range(n-l): # 以 i 为 开头\n",
    "            j = i + l           # 以 j 为 终点\n",
    "            for k in range(i,j): # 以 k 为分割点，进行分治\n",
    "                # Todo 业务逻辑\n",
    "                pass\n",
    "\n"
   ],
   "metadata": {
    "collapsed": false,
    "pycharm": {
     "name": "#%%\n"
    }
   }
  },
  {
   "cell_type": "code",
   "execution_count": null,
   "outputs": [],
   "source": [
    "# 区间dp模板\n",
    "def int_dp(s: str) -> int:\n",
    "    n = len(s)\n",
    "    dp = [[0] * n for _ in range(n)]\n",
    "    for i in range(n - 1, -1, -1):\n",
    "        dp[i][i] = 1\n",
    "        for j in range(i + 1, n):\n",
    "            if s[i] == s[j]:\n",
    "                dp[i][j] = dp[i + 1][j - 1] + 2\n",
    "            else:\n",
    "                dp[i][j] = max(dp[i + 1][j], dp[i][j - 1])\n",
    "    return dp[0][-1]\n",
    "\n",
    "\n"
   ],
   "metadata": {
    "collapsed": false,
    "pycharm": {
     "name": "#%%\n"
    }
   }
  },
  {
   "cell_type": "code",
   "execution_count": null,
   "outputs": [],
   "source": [
    "# 线段树\n",
    "## 区间长度很长，但是实际上要用很短 --> 离散化\n",
    "## 区间问题如果只查询最后一次，那么其实用差分数组就行了\n",
    "## 区间一直更新，还有一直查询，那就是线段树"
   ],
   "metadata": {
    "collapsed": false,
    "pycharm": {
     "name": "#%%\n"
    }
   }
  },
  {
   "cell_type": "code",
   "execution_count": null,
   "outputs": [],
   "source": [
    "# 线段树 懒加载\n",
    "class SegmentTree:\n",
    "    def __init__(self, nums):\n",
    "        self.n = len(nums)\n",
    "        self.tree = [0] * (4 * self.n)\n",
    "        self.lazy = [0] * (4 * self.n)\n",
    "        self.build(nums, 0, 0, self.n - 1)\n",
    "\n",
    "    def build(self, nums, node, l, r):\n",
    "        if l == r:\n",
    "            self.tree[node] = nums[r]\n",
    "        else:\n",
    "            mid = (l + r) // 2\n",
    "            l_child = 2 * node + 1\n",
    "            r_child = 2 * node + 2\n",
    "            self.build(nums, l_child, l, mid)\n",
    "            self.build(nums, r_child, mid + 1, r)\n",
    "            self.tree[node] = self.tree[l_child] + self.tree[r_child]\n",
    "\n",
    "    def update(self, node, l, r, idx, val):\n",
    "        if l == r:\n",
    "            self.tree[node] = val\n",
    "        else:\n",
    "            mid = (l + r) // 2\n",
    "            l_child = 2 * node + 1\n",
    "            r_child = 2 * node + 2\n",
    "            if l <= idx <= mid:\n",
    "                self.update(l_child, l, mid, idx, val)\n",
    "            else:\n",
    "                self.update(r_child, mid + 1, r, idx, val)\n",
    "            self.tree[node] = self.tree[l_child] + self.tree[r_child]\n",
    "\n",
    "    def query(self, node, start, end, left, right):\n",
    "        if start >= right or end <= left:\n",
    "            return 0\n",
    "        if start >= left and end <= right:\n",
    "            return self.tree[node]\n",
    "        mid = (start + end) // 2\n",
    "        left_child = 2 * node + 1\n",
    "        right_child = 2 * node + 2\n",
    "        left_sum = self.query(left_child, start, mid, left, right)\n",
    "        right_sum = self.query(right_child, mid, end, left, right)\n",
    "        return left_sum + right_sum"
   ],
   "metadata": {
    "collapsed": false,
    "pycharm": {
     "name": "#%%\n"
    }
   }
  },
  {
   "cell_type": "code",
   "execution_count": null,
   "outputs": [],
   "source": [
    "# 动态开点线段树 单点更新，区间查询（求和）\n",
    "class Node:\n",
    "    __slots__ = ['val', 'left', 'right']\n",
    "\n",
    "    def __init__(self, left=None, right=None, val=0) -> None:\n",
    "        self.left, self.right, self.val = left, right, val\n",
    "\n",
    "\n",
    "class SegmentTree:\n",
    "    def __init__(self):\n",
    "        self.root = Node()\n",
    "\n",
    "    # 单点更新\n",
    "    def update(self, node, s, e, index, val):\n",
    "        # 动态开点\n",
    "        if not node:\n",
    "            node = Node()\n",
    "        if s == e:\n",
    "            node.val += val\n",
    "            return node\n",
    "        mid = (s + e) >> 1\n",
    "        if index <= mid:\n",
    "            node.left = self.update(node.left, s, mid, index, val)\n",
    "        if index > mid:\n",
    "            node.right = self.update(node.right, mid + 1, e, index, val)\n",
    "        node.val = (node.left.val if node.left else 0) + (node.right.val if node.right else 0)\n",
    "        return node\n",
    "\n",
    "    def query(self, node, s, e, l, r):\n",
    "        if not node:\n",
    "            return 0\n",
    "        if l <= s and e <= r:\n",
    "            return node.val\n",
    "        mid = (s + e) >> 1\n",
    "        ans = 0\n",
    "        if l <= mid:\n",
    "            ans += self.query(node.left, s, mid, l, r)\n",
    "        if r > mid:\n",
    "            ans += self.query(node.right, mid + 1, e, l, r)\n",
    "        return ans\n"
   ],
   "metadata": {
    "collapsed": false,
    "pycharm": {
     "name": "#%%\n"
    }
   }
  }
 ],
 "metadata": {
  "kernelspec": {
   "display_name": "Python 3",
   "language": "python",
   "name": "python3"
  },
  "language_info": {
   "codemirror_mode": {
    "name": "ipython",
    "version": 2
   },
   "file_extension": ".py",
   "mimetype": "text/x-python",
   "name": "python",
   "nbconvert_exporter": "python",
   "pygments_lexer": "ipython2",
   "version": "2.7.6"
  }
 },
 "nbformat": 4,
 "nbformat_minor": 0
}