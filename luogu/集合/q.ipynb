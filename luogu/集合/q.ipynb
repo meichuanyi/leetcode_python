{
 "cells": [
  {
   "cell_type": "code",
   "execution_count": 9,
   "outputs": [],
   "source": [
    "\n",
    "\n",
    "# 打开一个输入文件\n",
    "with open(\"input.txt\", \"r\") as f:\n",
    "    DATA = f.readlines()\n",
    "CNT = len(DATA)\n",
    "START = 0\n",
    "def input():\n",
    "    global START\n",
    "    res = DATA[START].strip()\n",
    "    START += 1\n",
    "    return res\n"
   ],
   "metadata": {
    "collapsed": false,
    "pycharm": {
     "name": "#%%\n"
    }
   }
  },
  {
   "cell_type": "code",
   "execution_count": 10,
   "outputs": [
    {
     "name": "stdout",
     "output_type": "stream",
     "text": [
      "Yes\n",
      "Yes\n",
      "No\n"
     ]
    }
   ],
   "source": [
    "from functools import cache\n",
    "from typing import *\n",
    "from math import inf\n",
    "from collections import Counter, defaultdict\n",
    "from bisect import bisect_left, bisect_right\n",
    "from itertools import accumulate\n",
    "import sys\n",
    "import decimal\n",
    "import functools\n",
    "from collections import Counter\n",
    "import math\n",
    "import datetime\n",
    "import calendar\n",
    "import os\n",
    "import sys\n",
    "\n",
    "def I():\n",
    "    return int(input())\n",
    "\n",
    "def II():\n",
    "    return list(map(int, input().split()))\n",
    "n,m,p = II()\n",
    "parents = list(range(n+1))\n",
    "def find(x):\n",
    "    if parents[x] != x:\n",
    "        parents[x] = find(parents[x])\n",
    "    return parents[x]\n",
    "def union(x, y):\n",
    "    if find(x) != find(y):\n",
    "        parents[find(x)] = find(y)\n",
    "\n",
    "for _ in range(m):\n",
    "    x, y = II()\n",
    "    union(x,y)\n",
    "\n",
    "for _ in range(p):\n",
    "    x, y = II()\n",
    "    if find(x) != find(y):\n",
    "        print(\"No\")\n",
    "    else:\n",
    "        print(\"Yes\")"
   ],
   "metadata": {
    "collapsed": false,
    "pycharm": {
     "name": "#%%\n"
    }
   }
  },
  {
   "cell_type": "code",
   "execution_count": null,
   "outputs": [],
   "source": [
    "# P1536 村村通\n",
    "from functools import cache\n",
    "from typing import *\n",
    "from math import inf\n",
    "from collections import Counter, defaultdict\n",
    "from bisect import bisect_left, bisect_right\n",
    "from itertools import accumulate\n",
    "import sys\n",
    "import decimal\n",
    "import functools\n",
    "from collections import Counter\n",
    "import math\n",
    "import datetime\n",
    "import calendar\n",
    "import os\n",
    "import sys\n",
    "\n",
    "def I():\n",
    "    return int(input())\n",
    "\n",
    "def II():\n",
    "    return list(map(int, input().split()))\n",
    "\n",
    "n,m = II()\n",
    "parents = list(range(n+1))\n",
    "def find(x):\n",
    "    if parents[x] != x:\n",
    "        parents[x] = find(parents[x])\n",
    "    return parents[x]\n",
    "def union(x, y):\n",
    "    if find(x) != find(y):\n",
    "        parents[find(x)] = find(y)\n",
    "\n",
    "for _ in range(m):\n",
    "    x, y = II()\n",
    "    union(x,y)\n",
    "\n",
    "for _ in range(p):\n",
    "    x, y = II()\n",
    "    if find(x) != find(y):\n",
    "        print(\"No\")\n",
    "    else:\n",
    "        print(\"Yes\")"
   ],
   "metadata": {
    "collapsed": false,
    "pycharm": {
     "name": "#%%\n"
    }
   }
  }
 ],
 "metadata": {
  "kernelspec": {
   "display_name": "Python 3",
   "language": "python",
   "name": "python3"
  },
  "language_info": {
   "codemirror_mode": {
    "name": "ipython",
    "version": 2
   },
   "file_extension": ".py",
   "mimetype": "text/x-python",
   "name": "python",
   "nbconvert_exporter": "python",
   "pygments_lexer": "ipython2",
   "version": "2.7.6"
  }
 },
 "nbformat": 4,
 "nbformat_minor": 0
}